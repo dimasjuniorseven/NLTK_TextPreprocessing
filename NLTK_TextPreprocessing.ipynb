{
 "cells": [
  {
   "cell_type": "code",
   "execution_count": 1,
   "id": "5e1730a5-d83c-431c-a99c-f141a83530d9",
   "metadata": {},
   "outputs": [
    {
     "name": "stdout",
     "output_type": "stream",
     "text": [
      "Collecting Sastrawi\n",
      "  Downloading Sastrawi-1.0.1-py2.py3-none-any.whl.metadata (909 bytes)\n",
      "Downloading Sastrawi-1.0.1-py2.py3-none-any.whl (209 kB)\n",
      "Installing collected packages: Sastrawi\n",
      "Successfully installed Sastrawi-1.0.1\n"
     ]
    }
   ],
   "source": [
    "!pip install Sastrawi"
   ]
  },
  {
   "cell_type": "code",
   "execution_count": 33,
   "id": "09893448-9bb5-44d0-877a-aa0da2cfda92",
   "metadata": {},
   "outputs": [
    {
     "name": "stdout",
     "output_type": "stream",
     "text": [
      "Dokumen : Barangnya sesuai harapan, cakep dan mulus. Penjualnya juga baik dan ramah. Overall, puas banget belanja disini.\n",
      "\n",
      "Case folding : barangnya sesuai harapan, cakep dan mulus. penjualnya juga baik dan ramah. overall, puas banget belanja disini.\n",
      "\n",
      "Token :  ['barangnya', 'sesuai', 'harapan', 'cakep', 'dan', 'mulus', 'penjualnya', 'juga', 'baik', 'dan', 'ramah', 'overall', 'puas', 'banget', 'belanja', 'disini']\n",
      "\n",
      "Hasil Stemming : \n",
      "barang sesuai harap cakep dan mulus jual juga baik dan ramah overall puas banget belanja sini\n",
      "\n",
      "Hasil setelah Stopword Removal : \n",
      "['barang', 'sesuai', 'harap', 'cakep', 'mulus', 'jual', 'baik', 'ramah', 'overall', 'puas', 'banget', 'belanja', 'sini']\n"
     ]
    }
   ],
   "source": [
    "dokumen1 = \"Barangnya sesuai harapan, cakep dan mulus. Penjualnya juga baik dan ramah. Overall, puas banget belanja disini.\"\n",
    "print(\"Dokumen : \" +dokumen1)\n",
    "print()\n",
    "\n",
    "#Case Folding, ini digunakan untuk mengubah menjadi huruf kecil semua\n",
    "hasil_cf = str.lower(dokumen1)\n",
    "print(\"Case folding : \" +hasil_cf);\n",
    "print()\n",
    "\n",
    "# Tokenizing, ini digunakan untuk memecah kalimat menjadi kata dengan istilah Token\n",
    "from nltk.tokenize import RegexpTokenizer\n",
    "tokenizer    = RegexpTokenizer(r\"\\w+\")\n",
    "hasil_token  = tokenizer.tokenize(hasil_cf)\n",
    "print(\"Token : \" , hasil_token) \n",
    "print()\n",
    "\n",
    "#Steaming\n",
    "from Sastrawi.Stemmer.StemmerFactory import StemmerFactory\n",
    "factory = StemmerFactory()\n",
    "stemmer = factory.create_stemmer()\n",
    "input_stemm = str(hasil_token)\n",
    "hasil_stemm = stemmer.stem(input_stemm)\n",
    "print(\"Hasil Stemming : \")\n",
    "print(hasil_stemm)\n",
    "print()\n",
    "\n",
    "# Filterizing\n",
    "# Tokenisasi ulang hasil stemming\n",
    "token_stemm = tokenizer.tokenize(hasil_stemm)\n",
    "\n",
    "# Ambil daftar stopword\n",
    "from Sastrawi.StopWordRemover.StopWordRemoverFactory import StopWordRemoverFactory\n",
    "stop_factory = StopWordRemoverFactory()\n",
    "stopwords = stop_factory.get_stop_words()\n",
    "\n",
    "#Hapus stopwords dari hasil stemming\n",
    "hasil_final = [word for word in token_stemm if word not in stopwords]\n",
    "print(\"Hasil setelah Stopword Removal : \")\n",
    "print(hasil_final)\n"
   ]
  },
  {
   "cell_type": "code",
   "execution_count": null,
   "id": "d5d02c8b-86d0-4eb9-b899-5ab0202a568b",
   "metadata": {},
   "outputs": [],
   "source": []
  }
 ],
 "metadata": {
  "kernelspec": {
   "display_name": "Python [conda env:base] *",
   "language": "python",
   "name": "conda-base-py"
  },
  "language_info": {
   "codemirror_mode": {
    "name": "ipython",
    "version": 3
   },
   "file_extension": ".py",
   "mimetype": "text/x-python",
   "name": "python",
   "nbconvert_exporter": "python",
   "pygments_lexer": "ipython3",
   "version": "3.12.7"
  }
 },
 "nbformat": 4,
 "nbformat_minor": 5
}
